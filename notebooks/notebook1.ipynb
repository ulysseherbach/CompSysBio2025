{
 "cells": [
  {
   "cell_type": "markdown",
   "id": "6bfe34cc",
   "metadata": {},
   "source": [
    "# Notebook 1 - Simulation\n",
    "\n",
    "In this notebook we use `harissa` to simulate a basic repressilator network with 3 genes (1 ⇥ 2 ⇥ 3 ⇥ 1)."
   ]
  },
  {
   "cell_type": "code",
   "execution_count": null,
   "id": "7feeac1c",
   "metadata": {},
   "outputs": [],
   "source": [
    "import numpy as np\n",
    "import matplotlib.pyplot as plt\n",
    "import matplotlib.gridspec as gridspec\n",
    "from harissa import NetworkModel"
   ]
  },
  {
   "cell_type": "markdown",
   "id": "85d4ad6d",
   "metadata": {},
   "source": [
    "## Model definition\n",
    "\n",
    "We start by initializing the dynamical model and set the network interactions."
   ]
  },
  {
   "cell_type": "code",
   "execution_count": null,
   "id": "e511608c",
   "metadata": {},
   "outputs": [],
   "source": [
    "model = NetworkModel(3)\n",
    "# Basal gene activities\n",
    "model.basal[1] = 5\n",
    "model.basal[2] = 5\n",
    "model.basal[3] = 5\n",
    "# Inhibitions in cycle\n",
    "model.inter[1,2] = -10\n",
    "model.inter[2,3] = -10\n",
    "model.inter[3,1] = -10"
   ]
  },
  {
   "cell_type": "markdown",
   "id": "16cbf9ef",
   "metadata": {},
   "source": [
    "## First simulation\n",
    "\n",
    "We can now simulate and plot a trajectory for one single cell. Some critical parameters of the dynamical model are the degradation rates $d_0$ and $d_1$ which characterize the ‘responsiveness’ of mRNA and protein levels. Note that the `harissa.simulation` module is not based on time discretization and always returns exact stochastic simulations: the resulting continuous-time trajectories are simply extracted at user-specified time points."
   ]
  },
  {
   "cell_type": "code",
   "execution_count": null,
   "id": "3823254f",
   "metadata": {},
   "outputs": [],
   "source": [
    "# Degradation rates (per unit of time)\n",
    "model.d[0] = 1 # mRNA\n",
    "model.d[1] = 0.2 # protein\n",
    "# Set required time points\n",
    "time = np.linspace(0,100,1000)\n",
    "# Compute exact simulation\n",
    "sim = model.simulate(time)\n",
    "# Basic plotting function\n",
    "def basic_plot(sim):\n",
    "    fig = plt.figure(figsize=(12,4))\n",
    "    gs = gridspec.GridSpec(2,1)\n",
    "    ax1 = plt.subplot(gs[0,0])\n",
    "    ax2 = plt.subplot(gs[1,0])\n",
    "    # Plot proteins\n",
    "    for i in range(3):\n",
    "        ax1.plot(sim.t, sim.p[:,i], label=f'$P_{{{i+1}}}$')\n",
    "        ax1.set_xlim(sim.t[0], sim.t[-1])\n",
    "        ax1.set_ylim(0, np.max([1.2*np.max(sim.p), 1]))\n",
    "        ax1.tick_params(axis='x', labelbottom=False)\n",
    "        ax1.legend(loc='upper left', ncol=4, borderaxespad=0, frameon=False)\n",
    "    # Plot mRNA\n",
    "    for i in range(3):\n",
    "        ax2.plot(sim.t, sim.m[:,i], label=f'$M_{{{i+1}}}$')\n",
    "        ax2.set_xlim(sim.t[0], sim.t[-1])\n",
    "        ax2.set_ylim(0, 1.2*np.max(sim.m))\n",
    "        ax2.legend(loc='upper left', ncol=4, borderaxespad=0, frameon=False)\n",
    "# Plot the simulation\n",
    "basic_plot(sim)"
   ]
  },
  {
   "cell_type": "markdown",
   "id": "5579f5c4",
   "metadata": {},
   "source": [
    "Here the ratio $d_0/d_1 \\approx 5$ is biologically relevant. Note that despite the strong level of stochasticity, a robust periodic pattern is already emerging."
   ]
  },
  {
   "cell_type": "markdown",
   "id": "a507eedb",
   "metadata": {},
   "source": [
    "## Simulation with more stable proteins\n",
    "\n",
    "More stable proteins – with respect to mRNA – will lead to less ‘intrinsic noise’ in the system. Here we increase the mRNA degradation rates instead, which is equivalent to a zoom-out regarding the time scale. Note that mRNA and protein scales are normalized so the overall levels do not depend on degradation rates (but the *dynamics* does)."
   ]
  },
  {
   "cell_type": "code",
   "execution_count": null,
   "id": "dc445c61",
   "metadata": {
    "scrolled": true
   },
   "outputs": [],
   "source": [
    "# mRNA degradation rate\n",
    "model.d[0] = 10\n",
    "# Compute exact simulation\n",
    "sim = model.simulate(time)\n",
    "# Plot the simulation\n",
    "basic_plot(sim)"
   ]
  },
  {
   "cell_type": "markdown",
   "id": "8f69c02d",
   "metadata": {},
   "source": [
    "The emerging periodic pattern is now more visible."
   ]
  },
  {
   "cell_type": "markdown",
   "id": "e36b9bb6",
   "metadata": {},
   "source": [
    "## Even more stable proteins\n",
    "\n",
    "Let us try with even more stable proteins ($d_0/d_1 \\approx 250$)."
   ]
  },
  {
   "cell_type": "code",
   "execution_count": null,
   "id": "794cc3dc",
   "metadata": {},
   "outputs": [],
   "source": [
    "# The simulation may take longer as we zoom-out\n",
    "model.d[0] = 50\n",
    "# Compute exact simulation\n",
    "sim = model.simulate(time)\n",
    "# Plot the simulation\n",
    "basic_plot(sim)"
   ]
  },
  {
   "cell_type": "markdown",
   "id": "1ea40c7b",
   "metadata": {},
   "source": [
    "The system is now approaching a ‘slow-fast’ limit where proteins follow deterministic dynamics. Note that mRNA levels start to follow a quasi-steady-state (QSS) distribution and become *independent conditionally on protein levels* such that $M_i(t) \\sim \\mathrm{Gamma}(k_{\\mathrm{on},i}(P(t))/d_{0,i},b_i)$ for $i=1,2,3$."
   ]
  },
  {
   "cell_type": "markdown",
   "id": "6e4185e2",
   "metadata": {},
   "source": [
    "## Deterministic limit\n",
    "\n",
    "At the limit $d_0/d_1 \\to \\infty$, the stochastic model converges towards a nonlinear ODE system involving only proteins. Note that in this deterministic regime, the initial protein levels need to be perturbed so as not to stay in a trivial manifold."
   ]
  },
  {
   "cell_type": "code",
   "execution_count": null,
   "id": "e9dbd67a",
   "metadata": {},
   "outputs": [],
   "source": [
    "# Deterministic model (slow-fast limit)\n",
    "sim = model.simulate_ode(time, P0=[0,0,0.05,0.1])\n",
    "# Plot the simulation\n",
    "basic_plot(sim)"
   ]
  },
  {
   "cell_type": "markdown",
   "id": "1b3fe50a",
   "metadata": {},
   "source": [
    "Regarding mRNA levels, the `simulate_ode` method only returns the *mean* of the quasi-steady-state distribution conditionally on protein levels (the true limit model would consist in sampling $M_i(t) \\sim \\mathrm{Gamma}(k_{\\mathrm{on},i}(P(t))/d_{0,i},b_i$) independently for every $t > 0$)."
   ]
  },
  {
   "cell_type": "markdown",
   "id": "313e5150",
   "metadata": {},
   "source": [
    "## Final remark\n",
    "\n",
    "It is of course possible to set specific mRNA and protein degradation rates for each gene."
   ]
  },
  {
   "cell_type": "code",
   "execution_count": null,
   "id": "76582d24",
   "metadata": {},
   "outputs": [],
   "source": [
    "# Ignore d[0][0] and d[1][0] (gene 0 = stimulus)\n",
    "model.d[0][1:] = [1, 1, 1]\n",
    "model.d[1][1:] = [0.1, 0.8, 0.85]\n",
    "# Stochastic model\n",
    "sim = model.simulate(time)\n",
    "basic_plot(sim)\n",
    "# Deterministic model\n",
    "sim = model.simulate_ode(time)\n",
    "basic_plot(sim)"
   ]
  },
  {
   "cell_type": "markdown",
   "id": "cea2b232",
   "metadata": {},
   "source": [
    "...Degradation rates are crucial parameters of the dynamical model."
   ]
  }
 ],
 "metadata": {
  "kernelspec": {
   "display_name": "Python 3 (ipykernel)",
   "language": "python",
   "name": "python3"
  },
  "language_info": {
   "codemirror_mode": {
    "name": "ipython",
    "version": 3
   },
   "file_extension": ".py",
   "mimetype": "text/x-python",
   "name": "python",
   "nbconvert_exporter": "python",
   "pygments_lexer": "ipython3",
   "version": "3.10.13"
  }
 },
 "nbformat": 4,
 "nbformat_minor": 5
}
