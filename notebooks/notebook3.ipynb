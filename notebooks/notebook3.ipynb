{
 "cells": [
  {
   "cell_type": "markdown",
   "id": "25fb707c",
   "metadata": {},
   "source": [
    "# Notebook 3 - Identifiability\n",
    "\n",
    "In this notebook we compare two different branching pathways with 4 genes, from both ‘single-cell’ and ‘bulk’ viewpoints."
   ]
  },
  {
   "cell_type": "code",
   "execution_count": null,
   "id": "932d8f16",
   "metadata": {},
   "outputs": [],
   "source": [
    "import numpy as np\n",
    "from harissa import NetworkModel\n",
    "from pathlib import Path\n",
    "data_path = 'results/notebook3_'"
   ]
  },
  {
   "cell_type": "markdown",
   "id": "22f2cf1e",
   "metadata": {},
   "source": [
    "## Networks"
   ]
  },
  {
   "cell_type": "code",
   "execution_count": null,
   "id": "44c25879",
   "metadata": {},
   "outputs": [],
   "source": [
    "# Model 1\n",
    "model1 = NetworkModel(4)\n",
    "model1.d[0] = 1\n",
    "model1.d[1] = 0.2\n",
    "model1.basal[1:] = -5\n",
    "model1.inter[0,1] = 10\n",
    "model1.inter[1,2] = 10\n",
    "model1.inter[1,3] = 10\n",
    "model1.inter[2,4] = 10\n",
    "# Model 2\n",
    "model2 = NetworkModel(4)\n",
    "model2.d[0] = 1\n",
    "model2.d[1] = 0.2\n",
    "model2.basal[1:] = -5\n",
    "model2.inter[0,1] = 10\n",
    "model2.inter[1,2] = 10\n",
    "model2.inter[1,3] = 10\n",
    "model2.inter[3,4] = 10"
   ]
  },
  {
   "cell_type": "markdown",
   "id": "77563570",
   "metadata": {},
   "source": [
    "This time we set the node positions manually to better compare the two networks."
   ]
  },
  {
   "cell_type": "code",
   "execution_count": null,
   "id": "c2896c50",
   "metadata": {},
   "outputs": [],
   "source": [
    "import matplotlib.pyplot as plt\n",
    "import matplotlib.gridspec as gridspec\n",
    "from harissa.utils import build_pos, plot_network\n",
    "fig = plt.figure(figsize=(10,3))\n",
    "gs = gridspec.GridSpec(1,2)\n",
    "# Number of genes including stimulus\n",
    "G = model1.basal.size\n",
    "# Node labels and positions\n",
    "names = [''] + [f'{i+1}' for i in range(4)]\n",
    "pos1 = np.array([[-0.6,0],[-0.1,0.01],[0.2,-0.4],[0.2,0.4],[0.7,-0.4]])\n",
    "pos2 = np.array([[-0.6,0],[-0.1,0.01],[0.2,-0.4],[0.2,0.4],[0.7, 0.4]])\n",
    "# Draw the networks\n",
    "ax = plt.subplot(gs[0,0])\n",
    "plot_network(model1.inter, pos1, axes=fig.gca(), names=names, scale=6)\n",
    "ax = plt.subplot(gs[0,1])\n",
    "plot_network(model2.inter, pos2, axes=fig.gca(), names=names, scale=6)"
   ]
  },
  {
   "cell_type": "markdown",
   "id": "6abba1a8",
   "metadata": {},
   "source": [
    "## Datasets\n",
    "\n",
    "Here we use Numba for simulations: this option takes some time to compile (~8s) but is much more efficient afterwards, so it is well suited for large numbers of genes and/or cells."
   ]
  },
  {
   "cell_type": "code",
   "execution_count": null,
   "id": "c1e154e6",
   "metadata": {},
   "outputs": [],
   "source": [
    "# Number of cells\n",
    "C = 10000\n",
    "# Set the time points\n",
    "k = np.linspace(0, C, 11, dtype='int')\n",
    "t = np.linspace(0, 9, 10, dtype='int')\n",
    "print('Time points: ' + ', '.join([f'{ti}' for ti in t]))\n",
    "print(f'{int(C/t.size)} cells per time point (total {C} cells)')\n",
    "time = np.zeros(C, dtype='int')\n",
    "for i in range(10):\n",
    "    time[k[i]:k[i+1]] = t[i]\n",
    "# Prepare data\n",
    "data1 = np.zeros((C,G), dtype='int')\n",
    "data1[:,0] = time # Time points\n",
    "data2 = data1.copy()\n",
    "# Generate data\n",
    "for k in range(C):\n",
    "    # Data for model 1\n",
    "    sim1 = model1.simulate(time[k], burnin=5, use_numba=True)\n",
    "    data1[k,1:] = np.random.poisson(sim1.m[0])\n",
    "    # Data for model 2\n",
    "    sim2 = model2.simulate(time[k], burnin=5, use_numba=True)\n",
    "    data2[k,1:] = np.random.poisson(sim2.m[0])\n",
    "# Save data in basic format\n",
    "np.savetxt(data_path + \"data1.txt\", data1, fmt='%d', delimiter='\\t')\n",
    "np.savetxt(data_path + \"data2.txt\", data2, fmt='%d', delimiter='\\t')"
   ]
  },
  {
   "cell_type": "markdown",
   "id": "de02eec5",
   "metadata": {},
   "source": [
    "## Population-average trajectories\n",
    "\n",
    "Looking at network structures, it is clear that population-average trajectories, i.e., bulk data, does not contain enough information to recover all interactions: if $d_{0,2}=d_{0,3}$ and $d_{1,2}=d_{1,3}$, one *cannot distinguish* between edges 2 → 4 and 3 → 4 as genes 2 and 3 have the same average dynamics."
   ]
  },
  {
   "cell_type": "code",
   "execution_count": null,
   "id": "9a4bdf2c",
   "metadata": {},
   "outputs": [],
   "source": [
    "for i, data in [(1,data1),(2,data2)]:\n",
    "    # Import time points\n",
    "    time = np.sort(list(set(data[:,0])))\n",
    "    T = np.size(time)\n",
    "    # Average for each time point\n",
    "    traj = np.zeros((T,G-1))\n",
    "    for k, t in enumerate(time):\n",
    "        traj[k] = np.mean(data[data[:,0]==t,1:], axis=0)\n",
    "    # Draw trajectory and export figure\n",
    "    fig = plt.figure(figsize=(8,2))\n",
    "    labels = [rf'$\\langle M_{i} \\rangle$' for i in range(1,G)]\n",
    "    plt.plot(time, traj, label=labels)\n",
    "    ax = plt.gca()\n",
    "    ax.set_xlim(time[0], time[-1])\n",
    "    ax.set_ylim(0, 1.2*np.max(traj))\n",
    "    ax.set_xticks(time)\n",
    "    ax.set_title(f'Bulk-average trajectory ({int(C/T)} cells per time point)')\n",
    "    ax.legend(loc='upper left', ncol=G, borderaxespad=0, frameon=False)"
   ]
  },
  {
   "cell_type": "markdown",
   "id": "70622831",
   "metadata": {},
   "source": [
    "## Inference from single-cell data\n",
    "\n",
    "Here, since we know the number of edges we are looking for, we choose to keep only the strongest 4 edges instead of applying a cutoff to the weights."
   ]
  },
  {
   "cell_type": "code",
   "execution_count": null,
   "id": "04fececa",
   "metadata": {},
   "outputs": [],
   "source": [
    "inter = {}\n",
    "for k in [1,2]:\n",
    "    # Load the data\n",
    "    data = np.loadtxt(data_path + f'data{k}.txt', dtype=int, delimiter='\\t')\n",
    "    # Calibrate the model\n",
    "    model = NetworkModel()\n",
    "    model.fit(data)\n",
    "    # Keep the strongest four edges\n",
    "    inter[k] = np.zeros((G,G))\n",
    "    a = np.abs(model.inter)\n",
    "    a -= np.diag(np.diag(a))\n",
    "    for n in range(4):\n",
    "        (i,j) = np.unravel_index(np.argmax(a, axis=None), a.shape)\n",
    "        inter[k][i,j] = model.inter[i,j]\n",
    "        a[i,j] = 0\n",
    "    print(f'inter[{k}] = {inter[k]}')"
   ]
  },
  {
   "cell_type": "markdown",
   "id": "be8008a4",
   "metadata": {},
   "source": [
    "## Drawing inferred networks"
   ]
  },
  {
   "cell_type": "code",
   "execution_count": null,
   "id": "b7e8ff21",
   "metadata": {},
   "outputs": [],
   "source": [
    "fig = plt.figure(figsize=(10,3))\n",
    "gs = gridspec.GridSpec(1,2)\n",
    "# Draw the networks\n",
    "ax = plt.subplot(gs[0,0])\n",
    "plot_network(inter[1], pos1, axes=fig.gca(), names=names, scale=6)\n",
    "ax = plt.subplot(gs[0,1])\n",
    "plot_network(inter[2], pos2, axes=fig.gca(), names=names, scale=6)"
   ]
  },
  {
   "cell_type": "markdown",
   "id": "ab855f98",
   "metadata": {},
   "source": [
    "The result might not be always perfect, but the edges 2 → 4 and 3 → 4 should generally be inferred correctly."
   ]
  }
 ],
 "metadata": {
  "kernelspec": {
   "display_name": "Python 3 (ipykernel)",
   "language": "python",
   "name": "python3"
  },
  "language_info": {
   "codemirror_mode": {
    "name": "ipython",
    "version": 3
   },
   "file_extension": ".py",
   "mimetype": "text/x-python",
   "name": "python",
   "nbconvert_exporter": "python",
   "pygments_lexer": "ipython3",
   "version": "3.10.13"
  }
 },
 "nbformat": 4,
 "nbformat_minor": 5
}
